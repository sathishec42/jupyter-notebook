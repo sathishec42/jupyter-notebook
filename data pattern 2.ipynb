{
 "cells": [
  {
   "cell_type": "code",
   "execution_count": 29,
   "metadata": {},
   "outputs": [],
   "source": [
    "import json\n",
    "import pandas as pd\n",
    "import numpy as np"
   ]
  },
  {
   "cell_type": "code",
   "execution_count": 30,
   "metadata": {},
   "outputs": [],
   "source": [
    "data = [{\"name\":\"sathish\",\"age\":26,\"phone\":[{\"id\":\"001\",\"value\":\"1111\"},{\"id\":\"001\",\"value\":\"1222\"}]},\n",
    "        {\"name\":\"raj\",\"age\":28,\"phone\":[{\"id\":\"002\",\"value\":\"2111\"},{\"id\":\"002\",\"value\":\"22222\"}]},\n",
    "       ]"
   ]
  },
  {
   "cell_type": "code",
   "execution_count": 31,
   "metadata": {},
   "outputs": [
    {
     "name": "stdout",
     "output_type": "stream",
     "text": [
      "[{'name': 'sathish', 'age': 26, 'phone': [{'id': '001', 'value': '1111'}, {'id': '001', 'value': '1222'}]}, {'name': 'raj', 'age': 28, 'phone': [{'id': '002', 'value': '2111'}, {'id': '002', 'value': '22222'}]}]\n"
     ]
    }
   ],
   "source": [
    "print(data)"
   ]
  },
  {
   "cell_type": "code",
   "execution_count": 32,
   "metadata": {},
   "outputs": [
    {
     "name": "stdout",
     "output_type": "stream",
     "text": [
      "   age     name                                              phone\n",
      "0   26  sathish  [{'id': '001', 'value': '1111'}, {'id': '001',...\n",
      "1   28      raj  [{'id': '002', 'value': '2111'}, {'id': '002',...\n"
     ]
    }
   ],
   "source": [
    "df=pd.DataFrame(data)\n",
    "print(df)"
   ]
  },
  {
   "cell_type": "code",
   "execution_count": 45,
   "metadata": {},
   "outputs": [
    {
     "name": "stdout",
     "output_type": "stream",
     "text": [
      "0    sathish\n",
      "1        raj\n",
      "Name: name, dtype: object\n"
     ]
    }
   ],
   "source": [
    "print(df.name )"
   ]
  },
  {
   "cell_type": "code",
   "execution_count": 46,
   "metadata": {},
   "outputs": [
    {
     "name": "stdout",
     "output_type": "stream",
     "text": [
      "0    2\n",
      "1    2\n",
      "Name: phone, dtype: int64\n"
     ]
    }
   ],
   "source": [
    "print(df.phone.str.len() )\n"
   ]
  },
  {
   "cell_type": "code",
   "execution_count": 47,
   "metadata": {},
   "outputs": [
    {
     "name": "stdout",
     "output_type": "stream",
     "text": [
      "0    sathish\n",
      "1        raj\n",
      "Name: name, dtype: object 0    2\n",
      "1    2\n",
      "Name: phone, dtype: int64\n"
     ]
    }
   ],
   "source": [
    "print(df.name, df.phone.str.len())"
   ]
  },
  {
   "cell_type": "code",
   "execution_count": 36,
   "metadata": {},
   "outputs": [
    {
     "name": "stdout",
     "output_type": "stream",
     "text": [
      "      name  age                            phone\n",
      "0  sathish   26   {'id': '001', 'value': '1111'}\n",
      "0  sathish   26   {'id': '001', 'value': '1222'}\n",
      "1      raj   28   {'id': '002', 'value': '2111'}\n",
      "1      raj   28  {'id': '002', 'value': '22222'}\n"
     ]
    }
   ],
   "source": [
    "df1 = pd.DataFrame({'name': np.repeat(df.name, df.phone.str.len()),\n",
    "                    'age': np.repeat(df.age, df.phone.str.len()), \n",
    "                    'phone': np.concatenate(df.phone)})\n",
    "print(df1)"
   ]
  },
  {
   "cell_type": "code",
   "execution_count": null,
   "metadata": {},
   "outputs": [],
   "source": []
  },
  {
   "cell_type": "code",
   "execution_count": null,
   "metadata": {},
   "outputs": [],
   "source": []
  }
 ],
 "metadata": {
  "kernelspec": {
   "display_name": "Python 3",
   "language": "python",
   "name": "python3"
  },
  "language_info": {
   "codemirror_mode": {
    "name": "ipython",
    "version": 3
   },
   "file_extension": ".py",
   "mimetype": "text/x-python",
   "name": "python",
   "nbconvert_exporter": "python",
   "pygments_lexer": "ipython3",
   "version": "3.7.3"
  }
 },
 "nbformat": 4,
 "nbformat_minor": 2
}
